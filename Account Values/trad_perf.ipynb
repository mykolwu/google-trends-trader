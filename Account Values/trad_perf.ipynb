{
 "cells": [
  {
   "cell_type": "code",
   "execution_count": 1,
   "metadata": {},
   "outputs": [],
   "source": [
    "import pandas as pd"
   ]
  },
  {
   "cell_type": "code",
   "execution_count": 2,
   "metadata": {},
   "outputs": [],
   "source": [
    "df_tesla_acc_val = pd.read_csv(\n",
    "    'Tesla_acc_val\\Account_Value_ohlcv_cmf_pytrends_Tesla_new.csv',index_col=[0])\n",
    "df_tesla_acc_val['date'] = pd.to_datetime(df_tesla_acc_val['date'])\n",
    "df_tesla_acc_val.set_index('date',inplace=True)\n",
    "\n",
    "df_tesla_acc_val['Money'] = df_tesla_acc_val['total_assets'].values\n",
    "df_tesla_acc_val['Returns'] = df_tesla_acc_val['Money'].pct_change(1).fillna(0.0)"
   ]
  },
  {
   "cell_type": "code",
   "execution_count": 3,
   "metadata": {},
   "outputs": [],
   "source": [
    "from tradingPerformance import PerformanceEstimator\n",
    "\n",
    "data = PerformanceEstimator(df_tesla_acc_val)"
   ]
  },
  {
   "cell_type": "code",
   "execution_count": 4,
   "metadata": {},
   "outputs": [
    {
     "data": {
      "text/plain": [
       "[['Profit & Loss (P&L)', '8'],\n",
       " ['Annualized Return', '0.00%'],\n",
       " ['Annualized Volatility', '0.00%'],\n",
       " ['Sharpe Ratio', '1.060'],\n",
       " ['Sortino Ratio', '1.552'],\n",
       " ['Maximum Drawdown', '0.00%'],\n",
       " ['Maximum Drawdown Duration', '263 days'],\n",
       " ['Skewness', '3.125']]"
      ]
     },
     "execution_count": 4,
     "metadata": {},
     "output_type": "execute_result"
    }
   ],
   "source": [
    "data.computePerformance()"
   ]
  },
  {
   "cell_type": "code",
   "execution_count": null,
   "metadata": {},
   "outputs": [],
   "source": []
  }
 ],
 "metadata": {
  "interpreter": {
   "hash": "f39e1c8c489400b3d4a7bbf2190d70d01fa3106680ceb91abf4528ba163cf14b"
  },
  "kernelspec": {
   "display_name": "Python 3.8.5 64-bit ('PyTorch': conda)",
   "name": "python3"
  },
  "language_info": {
   "codemirror_mode": {
    "name": "ipython",
    "version": 3
   },
   "file_extension": ".py",
   "mimetype": "text/x-python",
   "name": "python",
   "nbconvert_exporter": "python",
   "pygments_lexer": "ipython3",
   "version": "3.8.5"
  },
  "orig_nbformat": 4
 },
 "nbformat": 4,
 "nbformat_minor": 2
}
